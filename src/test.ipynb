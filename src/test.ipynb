{
 "cells": [
  {
   "cell_type": "code",
   "execution_count": 1,
   "metadata": {},
   "outputs": [],
   "source": [
    "from PIL import Image\n",
    "import numpy as np"
   ]
  },
  {
   "cell_type": "code",
   "execution_count": 2,
   "metadata": {},
   "outputs": [],
   "source": [
    "image_path = \"colorful-image.jpeg\"\n",
    "output_path = \"grayscale-image.png\"\n",
    "\n",
    "original_image = Image.open(image_path)\n",
    "image_data = np.asarray(original_image) \n",
    "\n",
    "# print(f\"image shape : {image_data.shape}\")  image_data.shape = (168, 300, 3)\n",
    "\n",
    "\n",
    "# Y = (0.2126R + 0.7152G + 0.0722B)  the formula for converting to grayscale\n",
    "weights = [0.2126 , 0.7152, 0.0722]\n",
    "grayscale_image_data = image_data @ weights\n",
    "\n",
    "grayscale_image_data = grayscale_image_data.astype('uint8')\n",
    "\n",
    "grayscale_image = Image.fromarray(grayscale_image_data)\n",
    "grayscale_image.save(output_path)\n"
   ]
  }
 ],
 "metadata": {
  "kernelspec": {
   "display_name": "tmp",
   "language": "python",
   "name": "python3"
  },
  "language_info": {
   "codemirror_mode": {
    "name": "ipython",
    "version": 3
   },
   "file_extension": ".py",
   "mimetype": "text/x-python",
   "name": "python",
   "nbconvert_exporter": "python",
   "pygments_lexer": "ipython3",
   "version": "3.10.15"
  }
 },
 "nbformat": 4,
 "nbformat_minor": 2
}
